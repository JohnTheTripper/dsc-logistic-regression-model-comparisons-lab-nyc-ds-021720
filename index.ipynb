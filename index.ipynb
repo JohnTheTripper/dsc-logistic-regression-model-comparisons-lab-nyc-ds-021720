{
 "cells": [
  {
   "cell_type": "markdown",
   "metadata": {},
   "source": [
    "## Logistic Regression Model Comparisons - Lab\n",
    "\n",
    "## Introduction\n",
    "\n",
    "In this lab, you'll further investigate how to tune your own logistic regression implementation, as well as that of scikit-learn in order to produce better models.\n",
    "\n",
    "## Objectives\n",
    "\n",
    "- Compare the different inputs with logistic regression models and determine the optimal model "
   ]
  },
  {
   "cell_type": "markdown",
   "metadata": {},
   "source": [
    "In the previous lab, you were able to compare the output of your own implementation of the logistic regression model with that of scikit-learn. However, that model did not include an intercept or any regularization. In this investigative lab, you will analyze the impact of these two tuning parameters."
   ]
  },
  {
   "cell_type": "markdown",
   "metadata": {},
   "source": [
    "## Import the data\n",
    "\n",
    "As with the previous lab, import the dataset stored in `'heart.csv'`: "
   ]
  },
  {
   "cell_type": "code",
   "execution_count": 2,
   "metadata": {},
   "outputs": [],
   "source": [
    "import pandas as pd"
   ]
  },
  {
   "cell_type": "code",
   "execution_count": 3,
   "metadata": {
    "scrolled": true
   },
   "outputs": [
    {
     "data": {
      "text/html": [
       "<div>\n",
       "<style scoped>\n",
       "    .dataframe tbody tr th:only-of-type {\n",
       "        vertical-align: middle;\n",
       "    }\n",
       "\n",
       "    .dataframe tbody tr th {\n",
       "        vertical-align: top;\n",
       "    }\n",
       "\n",
       "    .dataframe thead th {\n",
       "        text-align: right;\n",
       "    }\n",
       "</style>\n",
       "<table border=\"1\" class=\"dataframe\">\n",
       "  <thead>\n",
       "    <tr style=\"text-align: right;\">\n",
       "      <th></th>\n",
       "      <th>age</th>\n",
       "      <th>sex</th>\n",
       "      <th>cp</th>\n",
       "      <th>trestbps</th>\n",
       "      <th>chol</th>\n",
       "      <th>fbs</th>\n",
       "      <th>restecg</th>\n",
       "      <th>thalach</th>\n",
       "      <th>exang</th>\n",
       "      <th>oldpeak</th>\n",
       "      <th>slope</th>\n",
       "      <th>ca</th>\n",
       "      <th>thal</th>\n",
       "      <th>target</th>\n",
       "    </tr>\n",
       "  </thead>\n",
       "  <tbody>\n",
       "    <tr>\n",
       "      <td>0</td>\n",
       "      <td>0.708333</td>\n",
       "      <td>1.0</td>\n",
       "      <td>1.000000</td>\n",
       "      <td>0.481132</td>\n",
       "      <td>0.244292</td>\n",
       "      <td>1.0</td>\n",
       "      <td>0.0</td>\n",
       "      <td>0.603053</td>\n",
       "      <td>0.0</td>\n",
       "      <td>0.370968</td>\n",
       "      <td>0.0</td>\n",
       "      <td>0.0</td>\n",
       "      <td>0.333333</td>\n",
       "      <td>1.0</td>\n",
       "    </tr>\n",
       "    <tr>\n",
       "      <td>1</td>\n",
       "      <td>0.166667</td>\n",
       "      <td>1.0</td>\n",
       "      <td>0.666667</td>\n",
       "      <td>0.339623</td>\n",
       "      <td>0.283105</td>\n",
       "      <td>0.0</td>\n",
       "      <td>0.5</td>\n",
       "      <td>0.885496</td>\n",
       "      <td>0.0</td>\n",
       "      <td>0.564516</td>\n",
       "      <td>0.0</td>\n",
       "      <td>0.0</td>\n",
       "      <td>0.666667</td>\n",
       "      <td>1.0</td>\n",
       "    </tr>\n",
       "    <tr>\n",
       "      <td>2</td>\n",
       "      <td>0.250000</td>\n",
       "      <td>0.0</td>\n",
       "      <td>0.333333</td>\n",
       "      <td>0.339623</td>\n",
       "      <td>0.178082</td>\n",
       "      <td>0.0</td>\n",
       "      <td>0.0</td>\n",
       "      <td>0.770992</td>\n",
       "      <td>0.0</td>\n",
       "      <td>0.225806</td>\n",
       "      <td>1.0</td>\n",
       "      <td>0.0</td>\n",
       "      <td>0.666667</td>\n",
       "      <td>1.0</td>\n",
       "    </tr>\n",
       "    <tr>\n",
       "      <td>3</td>\n",
       "      <td>0.562500</td>\n",
       "      <td>1.0</td>\n",
       "      <td>0.333333</td>\n",
       "      <td>0.245283</td>\n",
       "      <td>0.251142</td>\n",
       "      <td>0.0</td>\n",
       "      <td>0.5</td>\n",
       "      <td>0.816794</td>\n",
       "      <td>0.0</td>\n",
       "      <td>0.129032</td>\n",
       "      <td>1.0</td>\n",
       "      <td>0.0</td>\n",
       "      <td>0.666667</td>\n",
       "      <td>1.0</td>\n",
       "    </tr>\n",
       "    <tr>\n",
       "      <td>4</td>\n",
       "      <td>0.583333</td>\n",
       "      <td>0.0</td>\n",
       "      <td>0.000000</td>\n",
       "      <td>0.245283</td>\n",
       "      <td>0.520548</td>\n",
       "      <td>0.0</td>\n",
       "      <td>0.5</td>\n",
       "      <td>0.702290</td>\n",
       "      <td>1.0</td>\n",
       "      <td>0.096774</td>\n",
       "      <td>1.0</td>\n",
       "      <td>0.0</td>\n",
       "      <td>0.666667</td>\n",
       "      <td>1.0</td>\n",
       "    </tr>\n",
       "  </tbody>\n",
       "</table>\n",
       "</div>"
      ],
      "text/plain": [
       "        age  sex        cp  trestbps      chol  fbs  restecg   thalach  exang  \\\n",
       "0  0.708333  1.0  1.000000  0.481132  0.244292  1.0      0.0  0.603053    0.0   \n",
       "1  0.166667  1.0  0.666667  0.339623  0.283105  0.0      0.5  0.885496    0.0   \n",
       "2  0.250000  0.0  0.333333  0.339623  0.178082  0.0      0.0  0.770992    0.0   \n",
       "3  0.562500  1.0  0.333333  0.245283  0.251142  0.0      0.5  0.816794    0.0   \n",
       "4  0.583333  0.0  0.000000  0.245283  0.520548  0.0      0.5  0.702290    1.0   \n",
       "\n",
       "    oldpeak  slope   ca      thal  target  \n",
       "0  0.370968    0.0  0.0  0.333333     1.0  \n",
       "1  0.564516    0.0  0.0  0.666667     1.0  \n",
       "2  0.225806    1.0  0.0  0.666667     1.0  \n",
       "3  0.129032    1.0  0.0  0.666667     1.0  \n",
       "4  0.096774    1.0  0.0  0.666667     1.0  "
      ]
     },
     "execution_count": 3,
     "metadata": {},
     "output_type": "execute_result"
    }
   ],
   "source": [
    "# Import the data\n",
    "\n",
    "df = pd.read_csv('heart.csv')\n",
    "\n",
    "# Print the first five rows of the data\n",
    "df.head()"
   ]
  },
  {
   "cell_type": "code",
   "execution_count": 4,
   "metadata": {},
   "outputs": [
    {
     "data": {
      "text/plain": [
       "1.0    165\n",
       "0.0    138\n",
       "Name: target, dtype: int64"
      ]
     },
     "execution_count": 4,
     "metadata": {},
     "output_type": "execute_result"
    }
   ],
   "source": [
    "df.target.value_counts()"
   ]
  },
  {
   "cell_type": "markdown",
   "metadata": {},
   "source": [
    "## Split the data\n",
    "\n",
    "Define `X` and `y` as with the previous lab. This time, follow best practices and also implement a standard train-test split. Assign 25% to the test set and set the `random_state` to 17. "
   ]
  },
  {
   "cell_type": "code",
   "execution_count": 5,
   "metadata": {},
   "outputs": [],
   "source": [
    "from sklearn.model_selection import train_test_split"
   ]
  },
  {
   "cell_type": "code",
   "execution_count": 6,
   "metadata": {},
   "outputs": [
    {
     "name": "stdout",
     "output_type": "stream",
     "text": [
      "1.0    130\n",
      "0.0     97\n",
      "Name: target, dtype: int64 \n",
      "\n",
      " 0.0    41\n",
      "1.0    35\n",
      "Name: target, dtype: int64\n"
     ]
    }
   ],
   "source": [
    "# Define X and y\n",
    "y = df['target']\n",
    "X = df.drop('target', axis = 1)\n",
    "\n",
    "# Split the data into training and test sets\n",
    "X_train, X_test, y_train, y_test = train_test_split(X, y, test_size = .25, random_state = 17)\n",
    "print(y_train.value_counts(),'\\n\\n', y_test.value_counts())"
   ]
  },
  {
   "cell_type": "markdown",
   "metadata": {},
   "source": [
    "## Initial Model - Personal Implementation\n",
    "\n",
    "Use your code from the previous lab to once again train a logistic regression algorithm on the training set."
   ]
  },
  {
   "cell_type": "code",
   "execution_count": 7,
   "metadata": {},
   "outputs": [],
   "source": [
    "# Your code from previous lab\n",
    "import numpy as np\n",
    "\n",
    "def sigmoid(x):\n",
    "    x = np.array(x)\n",
    "    return 1/(1 + np.e**(-1*x))\n",
    "\n",
    "def grad_desc(X, y, max_iterations, alpha, initial_weights=None):\n",
    "    \"\"\"Be sure to set default behavior for the initial_weights parameter.\"\"\"\n",
    "    if initial_weights is None:\n",
    "        initial_weights = np.ones((X.shape[1], 1)).flatten()\n",
    "    weights_col = pd.DataFrame(initial_weights)\n",
    "    weights = initial_weights\n",
    "    # Create a for loop of iterations\n",
    "    for iteration in range(max_iterations):\n",
    "        # Generate predictions using the current feature weights\n",
    "        predictions = sigmoid(np.dot(X, weights))\n",
    "        # Calculate an error vector based on these initial predictions and the correct labels\n",
    "        error_vector = y - predictions\n",
    "        # Calculate the gradient \n",
    "        # As we saw in the previous lab, calculating the gradient is often the most difficult task.\n",
    "        # Here, your are provided with the closed form solution for the gradient of the log-loss function derived from MLE\n",
    "        # For more details on the derivation, see the additional resources section below.\n",
    "        gradient = np.dot(X.transpose(), error_vector)\n",
    "        # Update the weight vector take a step of alpha in direction of gradient \n",
    "        weights += alpha * gradient\n",
    "        weights_col = pd.concat([weights_col, pd.DataFrame(weights)], axis=1)\n",
    "    # Return finalized weights\n",
    "    return weights, weights_col\n",
    "\n",
    "weights, weights_col = grad_desc(X_train, y_train, 5000, 0.001) # reducing to 5000"
   ]
  },
  {
   "cell_type": "code",
   "execution_count": 8,
   "metadata": {
    "scrolled": true
   },
   "outputs": [
    {
     "data": {
      "text/plain": [
       "pandas.core.frame.DataFrame"
      ]
     },
     "execution_count": 8,
     "metadata": {},
     "output_type": "execute_result"
    }
   ],
   "source": [
    "type(weights_col)"
   ]
  },
  {
   "cell_type": "code",
   "execution_count": 9,
   "metadata": {},
   "outputs": [
    {
     "data": {
      "text/plain": [
       "array([ 0.27577267, -2.00448189,  2.48782696, -2.18365176, -1.18557233,\n",
       "        0.08407249,  1.3336662 ,  5.70649049, -1.09931085, -3.44667299,\n",
       "        0.90667962, -3.26561527, -1.65634214])"
      ]
     },
     "execution_count": 9,
     "metadata": {},
     "output_type": "execute_result"
    }
   ],
   "source": [
    "weights"
   ]
  },
  {
   "cell_type": "code",
   "execution_count": 10,
   "metadata": {
    "scrolled": true
   },
   "outputs": [
    {
     "data": {
      "text/plain": [
       "76"
      ]
     },
     "execution_count": 10,
     "metadata": {},
     "output_type": "execute_result"
    }
   ],
   "source": [
    "len(X_test)"
   ]
  },
  {
   "cell_type": "code",
   "execution_count": 11,
   "metadata": {},
   "outputs": [
    {
     "data": {
      "text/plain": [
       "(76, 13)"
      ]
     },
     "execution_count": 11,
     "metadata": {},
     "output_type": "execute_result"
    }
   ],
   "source": [
    "X_test.shape"
   ]
  },
  {
   "cell_type": "code",
   "execution_count": 12,
   "metadata": {
    "scrolled": true
   },
   "outputs": [
    {
     "data": {
      "text/plain": [
       "pandas.core.frame.DataFrame"
      ]
     },
     "execution_count": 12,
     "metadata": {},
     "output_type": "execute_result"
    }
   ],
   "source": [
    "type(X_test)"
   ]
  },
  {
   "cell_type": "code",
   "execution_count": 13,
   "metadata": {
    "scrolled": true
   },
   "outputs": [
    {
     "data": {
      "text/html": [
       "<div>\n",
       "<style scoped>\n",
       "    .dataframe tbody tr th:only-of-type {\n",
       "        vertical-align: middle;\n",
       "    }\n",
       "\n",
       "    .dataframe tbody tr th {\n",
       "        vertical-align: top;\n",
       "    }\n",
       "\n",
       "    .dataframe thead th {\n",
       "        text-align: right;\n",
       "    }\n",
       "</style>\n",
       "<table border=\"1\" class=\"dataframe\">\n",
       "  <thead>\n",
       "    <tr style=\"text-align: right;\">\n",
       "      <th></th>\n",
       "      <th>age</th>\n",
       "      <th>sex</th>\n",
       "      <th>cp</th>\n",
       "      <th>trestbps</th>\n",
       "      <th>chol</th>\n",
       "      <th>fbs</th>\n",
       "      <th>restecg</th>\n",
       "      <th>thalach</th>\n",
       "      <th>exang</th>\n",
       "      <th>oldpeak</th>\n",
       "      <th>slope</th>\n",
       "      <th>ca</th>\n",
       "      <th>thal</th>\n",
       "    </tr>\n",
       "  </thead>\n",
       "  <tbody>\n",
       "    <tr>\n",
       "      <td>182</td>\n",
       "      <td>0.666667</td>\n",
       "      <td>0.0</td>\n",
       "      <td>0.000000</td>\n",
       "      <td>0.339623</td>\n",
       "      <td>0.465753</td>\n",
       "      <td>0.0</td>\n",
       "      <td>0.0</td>\n",
       "      <td>0.748092</td>\n",
       "      <td>0.0</td>\n",
       "      <td>0.000000</td>\n",
       "      <td>1.0</td>\n",
       "      <td>0.00</td>\n",
       "      <td>0.666667</td>\n",
       "    </tr>\n",
       "    <tr>\n",
       "      <td>226</td>\n",
       "      <td>0.687500</td>\n",
       "      <td>1.0</td>\n",
       "      <td>0.333333</td>\n",
       "      <td>0.245283</td>\n",
       "      <td>0.353881</td>\n",
       "      <td>0.0</td>\n",
       "      <td>0.0</td>\n",
       "      <td>0.244275</td>\n",
       "      <td>0.0</td>\n",
       "      <td>0.225806</td>\n",
       "      <td>0.5</td>\n",
       "      <td>0.25</td>\n",
       "      <td>1.000000</td>\n",
       "    </tr>\n",
       "    <tr>\n",
       "      <td>176</td>\n",
       "      <td>0.645833</td>\n",
       "      <td>1.0</td>\n",
       "      <td>0.000000</td>\n",
       "      <td>0.216981</td>\n",
       "      <td>0.237443</td>\n",
       "      <td>1.0</td>\n",
       "      <td>0.5</td>\n",
       "      <td>0.679389</td>\n",
       "      <td>1.0</td>\n",
       "      <td>0.225806</td>\n",
       "      <td>1.0</td>\n",
       "      <td>0.50</td>\n",
       "      <td>1.000000</td>\n",
       "    </tr>\n",
       "    <tr>\n",
       "      <td>207</td>\n",
       "      <td>0.645833</td>\n",
       "      <td>0.0</td>\n",
       "      <td>0.000000</td>\n",
       "      <td>0.528302</td>\n",
       "      <td>0.301370</td>\n",
       "      <td>0.0</td>\n",
       "      <td>0.0</td>\n",
       "      <td>0.656489</td>\n",
       "      <td>0.0</td>\n",
       "      <td>0.419355</td>\n",
       "      <td>0.5</td>\n",
       "      <td>0.50</td>\n",
       "      <td>1.000000</td>\n",
       "    </tr>\n",
       "    <tr>\n",
       "      <td>221</td>\n",
       "      <td>0.541667</td>\n",
       "      <td>1.0</td>\n",
       "      <td>0.000000</td>\n",
       "      <td>0.433962</td>\n",
       "      <td>0.207763</td>\n",
       "      <td>0.0</td>\n",
       "      <td>0.5</td>\n",
       "      <td>0.305344</td>\n",
       "      <td>1.0</td>\n",
       "      <td>0.903226</td>\n",
       "      <td>0.0</td>\n",
       "      <td>0.00</td>\n",
       "      <td>1.000000</td>\n",
       "    </tr>\n",
       "  </tbody>\n",
       "</table>\n",
       "</div>"
      ],
      "text/plain": [
       "          age  sex        cp  trestbps      chol  fbs  restecg   thalach  \\\n",
       "182  0.666667  0.0  0.000000  0.339623  0.465753  0.0      0.0  0.748092   \n",
       "226  0.687500  1.0  0.333333  0.245283  0.353881  0.0      0.0  0.244275   \n",
       "176  0.645833  1.0  0.000000  0.216981  0.237443  1.0      0.5  0.679389   \n",
       "207  0.645833  0.0  0.000000  0.528302  0.301370  0.0      0.0  0.656489   \n",
       "221  0.541667  1.0  0.000000  0.433962  0.207763  0.0      0.5  0.305344   \n",
       "\n",
       "     exang   oldpeak  slope    ca      thal  \n",
       "182    0.0  0.000000    1.0  0.00  0.666667  \n",
       "226    0.0  0.225806    0.5  0.25  1.000000  \n",
       "176    1.0  0.225806    1.0  0.50  1.000000  \n",
       "207    0.0  0.419355    0.5  0.50  1.000000  \n",
       "221    1.0  0.903226    0.0  0.00  1.000000  "
      ]
     },
     "execution_count": 13,
     "metadata": {},
     "output_type": "execute_result"
    }
   ],
   "source": [
    "X_test.head()"
   ]
  },
  {
   "cell_type": "code",
   "execution_count": 14,
   "metadata": {},
   "outputs": [],
   "source": [
    "X_test_array = X_test.to_numpy()"
   ]
  },
  {
   "cell_type": "code",
   "execution_count": 15,
   "metadata": {},
   "outputs": [
    {
     "name": "stdout",
     "output_type": "stream",
     "text": [
      "[0.66666667 0.         0.         0.33962264 0.46575342 0.\n",
      " 0.         0.7480916  0.         0.         1.         0.\n",
      " 0.66666667]\n",
      "[0.6875     1.         0.33333333 0.24528302 0.35388128 0.\n",
      " 0.         0.24427481 0.         0.22580645 0.5        0.25\n",
      " 1.        ]\n",
      "[0.64583333 1.         0.         0.21698113 0.23744292 1.\n",
      " 0.5        0.67938931 1.         0.22580645 1.         0.5\n",
      " 1.        ]\n",
      "[0.64583333 0.         0.         0.52830189 0.30136986 0.\n",
      " 0.         0.65648855 0.         0.41935484 0.5        0.5\n",
      " 1.        ]\n",
      "[0.54166667 1.         0.         0.43396226 0.20776256 0.\n",
      " 0.5        0.30534351 1.         0.90322581 0.         0.\n",
      " 1.        ]\n",
      "[0.60416667 0.         0.66666667 0.24528302 0.48858447 0.\n",
      " 0.5        0.77099237 0.         0.         1.         0.\n",
      " 0.66666667]\n",
      "[0.47916667 1.         0.         0.32075472 0.29452055 0.\n",
      " 0.5        0.6870229  1.         0.         1.         0.25\n",
      " 1.        ]\n",
      "[0.60416667 1.         0.66666667 0.43396226 0.19406393 1.\n",
      " 0.         0.71755725 0.         0.         1.         0.\n",
      " 0.66666667]\n",
      "[0.5625     1.         0.         0.33962264 0.35844749 1.\n",
      " 0.         0.24427481 1.         0.25806452 0.         0.\n",
      " 1.        ]\n",
      "[0.5625     1.         0.33333333 0.33962264 0.21689498 0.\n",
      " 0.         0.70229008 0.         0.         1.         0.\n",
      " 1.        ]\n",
      "[0.39583333 1.         0.         0.33962264 0.29680365 1.\n",
      " 0.         0.60305344 1.         0.         1.         0.5\n",
      " 1.        ]\n",
      "[0.72916667 1.         1.         0.1509434  0.19406393 0.\n",
      " 0.         0.55725191 1.         0.29032258 0.5        0.\n",
      " 0.66666667]\n",
      "[0.58333333 1.         0.66666667 0.32075472 0.23515982 0.\n",
      " 0.         0.60305344 0.         0.06451613 0.5        0.25\n",
      " 1.        ]\n",
      "[0.72916667 1.         0.         0.24528302 0.2739726  0.\n",
      " 0.         0.19083969 1.         0.35483871 0.         0.25\n",
      " 0.66666667]\n",
      "[0.47916667 0.         0.66666667 0.39622642 0.15981735 0.\n",
      " 0.         0.7480916  0.         0.01612903 0.5        0.\n",
      " 0.66666667]\n",
      "[0.79166667 1.         0.66666667 0.54716981 0.19634703 0.\n",
      " 0.         0.60305344 0.         0.12903226 0.5        0.\n",
      " 1.        ]\n",
      "[0.1875     1.         1.         0.24528302 0.23972603 0.\n",
      " 0.5        0.84732824 1.         0.61290323 0.5        0.\n",
      " 1.        ]\n",
      "[0.22916667 1.         0.         0.1509434  0.09360731 0.\n",
      " 0.         0.32824427 1.         0.32258065 0.5        0.\n",
      " 1.        ]\n",
      "[0.25       0.         0.66666667 0.16981132 0.32420091 0.\n",
      " 0.         0.77099237 1.         0.         1.         0.\n",
      " 0.66666667]\n",
      "[0.5        1.         0.         0.45283019 0.2283105  0.\n",
      " 0.         0.30534351 1.         0.         1.         0.\n",
      " 1.        ]\n",
      "[0.70833333 0.         0.33333333 0.43396226 0.15753425 0.\n",
      " 0.5        0.82442748 0.         0.         1.         0.5\n",
      " 0.66666667]\n",
      "[0.39583333 0.         0.66666667 0.33962264 0.34018265 0.\n",
      " 0.5        0.51908397 0.         0.03225806 1.         0.\n",
      " 0.66666667]\n",
      "[0.52083333 1.         0.         0.1509434  0.1826484  0.\n",
      " 0.         0.28244275 1.         0.         0.5        0.25\n",
      " 0.66666667]\n",
      "[0.39583333 1.         0.33333333 0.1509434  0.23515982 0.\n",
      " 0.5        0.74045802 0.         0.16129032 0.         0.\n",
      " 1.        ]\n",
      "[0.33333333 1.         1.         0.1509434  0.31506849 0.\n",
      " 0.5        0.46564885 0.         0.19354839 0.5        0.\n",
      " 1.        ]\n",
      "[0.22916667 1.         0.         0.54716981 0.22146119 0.\n",
      " 0.5        0.83969466 0.         0.         1.         0.\n",
      " 1.        ]\n",
      "[0.5625     0.         0.         1.         0.36986301 1.\n",
      " 0.         0.47328244 1.         0.64516129 0.         0.5\n",
      " 1.        ]\n",
      "[0.70833333 1.         0.         0.33962264 0.29223744 0.\n",
      " 0.         0.58015267 0.         0.22580645 0.5        0.25\n",
      " 1.        ]\n",
      "[0.5        1.         0.         0.43396226 0.17579909 1.\n",
      " 0.         0.64122137 1.         0.5        0.         0.\n",
      " 1.        ]\n",
      "[0.66666667 1.         0.         0.24528302 0.30593607 0.\n",
      " 0.5        0.52671756 1.         0.58064516 0.5        0.25\n",
      " 1.        ]\n",
      "[0.6875     1.         0.33333333 0.32075472 0.18721461 1.\n",
      " 0.         0.52671756 0.         0.         1.         0.\n",
      " 0.66666667]\n",
      "[0.85416667 1.         0.         0.48113208 0.10958904 0.\n",
      " 0.5        0.41221374 1.         0.41935484 0.         0.\n",
      " 1.        ]\n",
      "[0.20833333 0.         0.66666667 0.41509434 0.21461187 0.\n",
      " 0.5        0.61832061 0.         0.         0.5        0.\n",
      " 0.66666667]\n",
      "[0.60416667 0.         0.         0.71698113 0.2260274  1.\n",
      " 0.         0.57251908 1.         0.4516129  0.5        0.5\n",
      " 0.33333333]\n",
      "[0.58333333 0.         0.         0.43396226 0.26255708 0.\n",
      " 0.5        0.39694656 1.         0.03225806 0.5        0.\n",
      " 1.        ]\n",
      "[0.10416667 1.         1.         0.22641509 0.12785388 0.\n",
      " 0.         0.78625954 0.         0.         1.         0.\n",
      " 0.66666667]\n",
      "[0.60416667 0.         0.         0.33962264 0.16210046 0.\n",
      " 0.5        0.45801527 0.         0.09677419 0.5        0.\n",
      " 0.66666667]\n",
      "[0.625      1.         0.         0.43396226 0.11643836 0.\n",
      " 0.5        0.69465649 1.         0.         1.         0.25\n",
      " 1.        ]\n",
      "[0.45833333 1.         0.66666667 0.         0.23059361 0.\n",
      " 0.5        0.63358779 1.         0.         1.         0.25\n",
      " 1.        ]\n",
      "[0.64583333 0.         0.66666667 0.0754717  0.43835616 0.\n",
      " 0.5        0.67938931 0.         0.         1.         0.25\n",
      " 0.66666667]\n",
      "[0.58333333 0.         0.33333333 0.33962264 0.25114155 0.\n",
      " 0.         0.78625954 0.         0.         0.5        0.25\n",
      " 0.66666667]\n",
      "[0.3125     1.         0.         0.24528302 0.09817352 0.\n",
      " 0.5        0.55725191 1.         0.4516129  0.         0.\n",
      " 0.33333333]\n",
      "[0.58333333 1.         0.         0.54716981 0.33789954 0.\n",
      " 0.5        0.12977099 1.         0.19354839 0.5        0.25\n",
      " 1.        ]\n",
      "[0.72916667 1.         0.         0.32075472 0.31278539 0.\n",
      " 0.5        0.25954198 1.         0.03225806 0.5        0.25\n",
      " 1.        ]\n",
      "[0.4375     0.         0.         0.1509434  0.29223744 0.\n",
      " 0.         0.67175573 0.         0.         1.         0.\n",
      " 0.66666667]\n",
      "[0.75       0.         0.66666667 0.43396226 0.66438356 1.\n",
      " 0.         0.65648855 0.         0.12903226 1.         0.25\n",
      " 0.66666667]\n",
      "[0.33333333 0.         0.33333333 0.16981132 0.07762557 0.\n",
      " 0.5        0.51145038 0.         0.         0.5        0.\n",
      " 0.66666667]\n",
      "[0.8125     1.         0.66666667 0.22641509 0.34474886 0.\n",
      " 0.5        0.61068702 0.         0.16129032 1.         0.25\n",
      " 1.        ]\n",
      "[0.66666667 1.         0.         0.43396226 0.18493151 0.\n",
      " 0.         0.51145038 1.         0.30645161 1.         0.25\n",
      " 1.        ]\n",
      "[0.60416667 1.         0.         0.32075472 0.20547945 0.\n",
      " 0.         0.45801527 1.         0.35483871 0.5        0.75\n",
      " 1.        ]\n",
      "[0.47916667 1.         0.33333333 0.32075472 0.1803653  1.\n",
      " 0.5        0.86259542 0.         0.         1.         0.\n",
      " 0.66666667]\n",
      "[0.52083333 1.         0.         0.28301887 0.3196347  0.\n",
      " 0.         0.29007634 1.         0.35483871 0.5        0.25\n",
      " 1.        ]\n",
      "[0.70833333 1.         0.         0.43396226 0.13926941 0.\n",
      " 0.         0.55725191 1.         0.64516129 1.         0.5\n",
      " 1.        ]\n",
      "[0.52083333 1.         0.66666667 0.52830189 0.24200913 0.\n",
      " 0.         0.71755725 0.         0.25806452 1.         0.\n",
      " 1.        ]\n",
      "[0.33333333 1.         0.33333333 0.32075472 0.41552511 0.\n",
      " 0.         0.75572519 0.         0.         1.         0.\n",
      " 0.66666667]\n",
      "[0.79166667 1.         0.         0.62264151 0.3652968  0.\n",
      " 0.         0.28244275 1.         0.24193548 0.5        0.75\n",
      " 0.66666667]\n",
      "[0.27083333 0.         0.         0.0754717  0.3173516  0.\n",
      " 0.         0.38931298 0.         0.09677419 0.5        0.\n",
      " 0.66666667]\n",
      "[0.1875     1.         0.66666667 0.41509434 0.11187215 0.\n",
      " 0.5        0.77862595 0.         0.         1.         1.\n",
      " 0.66666667]\n",
      "[0.70833333 0.         0.         0.52830189 0.64155251 0.\n",
      " 0.         0.63358779 0.         0.64516129 0.5        0.75\n",
      " 1.        ]\n",
      "[0.54166667 0.         0.33333333 0.35849057 0.49315068 0.\n",
      " 0.5        0.72519084 0.         0.19354839 1.         0.\n",
      " 0.66666667]\n",
      "[0.625      1.         1.         0.79245283 0.32876712 0.\n",
      " 0.         0.5648855  0.         0.67741935 0.         0.\n",
      " 1.        ]\n",
      "[0.35416667 1.         0.         0.43396226 0.42237443 0.\n",
      " 0.5        0.3740458  1.         0.29032258 0.5        0.5\n",
      " 1.        ]\n",
      "[0.375      1.         0.66666667 0.33962264 0.28995434 0.\n",
      " 0.5        0.82442748 0.         0.         1.         0.\n",
      " 0.66666667]\n",
      "[0.39583333 1.         0.         0.28301887 0.33789954 0.\n",
      " 0.         0.72519084 0.         0.08064516 0.5        0.\n",
      " 1.        ]\n",
      "[0.25       1.         0.33333333 0.1509434  0.24885845 0.\n",
      " 0.5        0.6259542  0.         0.         1.         0.\n",
      " 0.66666667]\n",
      "[0.33333333 1.         0.         0.09433962 0.18721461 0.\n",
      " 0.         0.58778626 1.         0.48387097 0.5        0.\n",
      " 0.66666667]\n",
      "[0.27083333 1.         1.         0.50943396 0.26940639 0.\n",
      " 0.         0.81679389 0.         0.12903226 1.         0.5\n",
      " 0.66666667]\n",
      "[0.70833333 0.         0.66666667 0.38679245 0.28767123 0.\n",
      " 0.         0.77099237 0.         0.         1.         0.\n",
      " 0.66666667]\n",
      "[0.64583333 1.         0.         0.29245283 0.30136986 0.\n",
      " 0.         0.53435115 1.         0.4516129  0.5        0.25\n",
      " 1.        ]\n",
      "[0.66666667 0.         0.         0.48113208 0.41324201 0.\n",
      " 0.         0.57251908 1.         0.16129032 0.5        0.\n",
      " 1.        ]\n",
      "[0.25       1.         0.         0.1509434  0.10502283 0.\n",
      " 0.         0.66412214 0.         0.         1.         0.\n",
      " 1.        ]\n",
      "[0.125      1.         0.         0.30188679 0.35616438 0.\n",
      " 0.         0.64885496 1.         0.         1.         0.\n",
      " 1.        ]\n",
      "[0.5        0.         0.66666667 0.32075472 0.20547945 0.\n",
      " 0.         0.33587786 0.         0.         1.         0.\n",
      " 0.        ]\n",
      "[0.375      1.         0.         0.1509434  0.34018265 0.\n",
      " 0.         0.35877863 1.         0.16129032 0.5        0.25\n",
      " 0.66666667]\n",
      "[0.5625     1.         0.33333333 0.24528302 0.25114155 0.\n",
      " 0.5        0.81679389 0.         0.12903226 1.         0.\n",
      " 0.66666667]\n",
      "[0.64583333 0.         0.66666667 0.24528302 0.11872146 1.\n",
      " 0.5        0.19083969 0.         0.         1.         0.\n",
      " 0.66666667]\n"
     ]
    }
   ],
   "source": [
    "for row in X_test_array:\n",
    "    print(row)"
   ]
  },
  {
   "cell_type": "code",
   "execution_count": 16,
   "metadata": {},
   "outputs": [
    {
     "data": {
      "text/plain": [
       "(76, 13)"
      ]
     },
     "execution_count": 16,
     "metadata": {},
     "output_type": "execute_result"
    }
   ],
   "source": [
    "X_test_array.shape"
   ]
  },
  {
   "cell_type": "markdown",
   "metadata": {},
   "source": [
    "## Make [probability] predictions on the test set"
   ]
  },
  {
   "cell_type": "code",
   "execution_count": 17,
   "metadata": {},
   "outputs": [
    {
     "name": "stdout",
     "output_type": "stream",
     "text": [
      "age\n",
      "sex\n",
      "cp\n",
      "trestbps\n",
      "chol\n",
      "fbs\n",
      "restecg\n",
      "thalach\n",
      "exang\n",
      "oldpeak\n",
      "slope\n",
      "ca\n",
      "thal\n"
     ]
    }
   ],
   "source": [
    "for row in X_test:\n",
    "    print(row)"
   ]
  },
  {
   "cell_type": "code",
   "execution_count": 18,
   "metadata": {},
   "outputs": [],
   "source": [
    "y_pred = []\n",
    "\n",
    "for row in X_test_array:\n",
    "    y_pred.append(row.dot(weights)) "
   ]
  },
  {
   "cell_type": "code",
   "execution_count": 19,
   "metadata": {},
   "outputs": [
    {
     "data": {
      "text/plain": [
       "[2.961475652513919,\n",
       " -3.3445123381997517,\n",
       " -2.2139234417784603,\n",
       " -1.8677632183114068,\n",
       " -6.5085490558292545,\n",
       " 5.579244278189778,\n",
       " -0.9999872608220945,\n",
       " 2.624240451758371,\n",
       " -5.183035373710273,\n",
       " 1.2391027581485652,\n",
       " -2.945211460300775,\n",
       " 0.5538512715967183,\n",
       " 0.03526778557568555,\n",
       " -5.817755531807575,\n",
       " 4.298494686264279,\n",
       " 0.2383618908391112,\n",
       " 0.8025407116494572,\n",
       " -3.9228903677157487,\n",
       " 4.075123352532712,\n",
       " -3.2326311227185096,\n",
       " 3.431288503649639,\n",
       " 3.943031981296356,\n",
       " -3.36184708336911,\n",
       " 1.0055395827900737,\n",
       " 1.326078534395621,\n",
       " 1.3102095949615444,\n",
       " -6.294295338185119,\n",
       " -2.3842805553879924,\n",
       " -3.758433856323744,\n",
       " -4.166424632822418,\n",
       " 0.984247167819718,\n",
       " -4.131381791679769,\n",
       " 4.099530074930799,\n",
       " -2.703303786063599,\n",
       " -0.5795267446698076,\n",
       " 4.15531377925634,\n",
       " 1.5288688523841667,\n",
       " -0.9522859573983542,\n",
       " 1.1240984236565765,\n",
       " 4.6819571178427815,\n",
       " 2.970269498558225,\n",
       " -1.9315085012299447,\n",
       " -5.817492122689205,\n",
       " -3.9566369755716577,\n",
       " 3.080393298167745,\n",
       " 2.5017174648907377,\n",
       " 3.392891921971688,\n",
       " 1.004729745541007,\n",
       " -3.790534517115972,\n",
       " -6.142774445371008,\n",
       " 3.518431815467483,\n",
       " -5.544227133004943,\n",
       " -5.447367604810902,\n",
       " 0.8127614661988476,\n",
       " 1.8386564552632327,\n",
       " -7.000406089855148,\n",
       " 0.7708147777267569,\n",
       " 0.3136137476665035,\n",
       " -3.979206364630452,\n",
       " 3.5516494253129234,\n",
       " -2.232186643936287,\n",
       " -5.489636195831077,\n",
       " 3.845976963019796,\n",
       " -0.25660606515433493,\n",
       " 2.310375740712215,\n",
       " -2.4042664334262853,\n",
       " 1.512144851881767,\n",
       " 4.870327354444146,\n",
       " -4.448298870532019,\n",
       " -0.9478582015334229,\n",
       " 0.6504854485333516,\n",
       " -1.1977732600987419,\n",
       " 3.6757737436665767,\n",
       " -3.7091372117654475,\n",
       " 2.832135937219732,\n",
       " 2.802670947848889]"
      ]
     },
     "execution_count": 19,
     "metadata": {},
     "output_type": "execute_result"
    }
   ],
   "source": [
    "y_pred"
   ]
  },
  {
   "cell_type": "code",
   "execution_count": 20,
   "metadata": {},
   "outputs": [
    {
     "data": {
      "text/plain": [
       "array([ 2.96, -3.34, -2.21, -1.87, -6.51,  5.58, -1.  ,  2.62, -5.18,\n",
       "        1.24, -2.95,  0.55,  0.04, -5.82,  4.3 ,  0.24,  0.8 , -3.92,\n",
       "        4.08, -3.23,  3.43,  3.94, -3.36,  1.01,  1.33,  1.31, -6.29,\n",
       "       -2.38, -3.76, -4.17,  0.98, -4.13,  4.1 , -2.7 , -0.58,  4.16,\n",
       "        1.53, -0.95,  1.12,  4.68,  2.97, -1.93, -5.82, -3.96,  3.08,\n",
       "        2.5 ,  3.39,  1.  , -3.79, -6.14,  3.52, -5.54, -5.45,  0.81,\n",
       "        1.84, -7.  ,  0.77,  0.31, -3.98,  3.55, -2.23, -5.49,  3.85,\n",
       "       -0.26,  2.31, -2.4 ,  1.51,  4.87, -4.45, -0.95,  0.65, -1.2 ,\n",
       "        3.68, -3.71,  2.83,  2.8 ])"
      ]
     },
     "execution_count": 20,
     "metadata": {},
     "output_type": "execute_result"
    }
   ],
   "source": [
    "# Predict on test set\n",
    "y_hat_test = (y_pred)\n",
    "np.round(y_hat_test, 2)"
   ]
  },
  {
   "cell_type": "markdown",
   "metadata": {},
   "source": [
    "## Create an ROC curve for your predictions"
   ]
  },
  {
   "cell_type": "code",
   "execution_count": 21,
   "metadata": {},
   "outputs": [
    {
     "name": "stdout",
     "output_type": "stream",
     "text": [
      "AUC: 0.8996515679442508\n"
     ]
    },
    {
     "data": {
      "image/png": "[encoded data removed]",
      "text/plain": [
       "<Figure size 720x576 with 1 Axes>"
      ]
     },
     "metadata": {},
     "output_type": "display_data"
    }
   ],
   "source": [
    "from sklearn.metrics import roc_curve, auc\n",
    "import matplotlib.pyplot as plt\n",
    "import seaborn as sns\n",
    "%matplotlib inline\n",
    "\n",
    "test_fpr, test_tpr, test_thresholds = roc_curve(y_test, y_hat_test)\n",
    "\n",
    "print('AUC: {}'.format(auc(test_fpr, test_tpr)))\n",
    "\n",
    "# Seaborn's beautiful styling\n",
    "sns.set_style('darkgrid', {'axes.facecolor': '0.9'})\n",
    "\n",
    "plt.figure(figsize=(10, 8))\n",
    "lw = 2\n",
    "\n",
    "plt.plot(test_fpr, test_tpr, color='darkorange',\n",
    "         lw=lw, label='Test ROC curve')\n",
    "\n",
    "plt.plot([0, 1], [0, 1], color='navy', lw=lw, linestyle='--')\n",
    "plt.xlim([0.0, 1.0])\n",
    "plt.ylim([0.0, 1.05])\n",
    "plt.yticks([i/20.0 for i in range(21)])\n",
    "plt.xticks([i/20.0 for i in range(21)])\n",
    "plt.xlabel('False Positive Rate')\n",
    "plt.ylabel('True Positive Rate')\n",
    "plt.title('Receiver operating characteristic (ROC) Curve')\n",
    "plt.legend(loc='lower right')\n",
    "plt.show()"
   ]
  },
  {
   "cell_type": "markdown",
   "metadata": {},
   "source": [
    "## Update your ROC curve to include the training set"
   ]
  },
  {
   "cell_type": "code",
   "execution_count": null,
   "metadata": {},
   "outputs": [],
   "source": [
    "y_hat_train = None\n",
    "\n",
    "train_fpr, train_tpr, train_thresholds = None\n",
    "\n",
    "test_fpr, test_tpr, test_thresholds = roc_curve(y_test, y_hat_test)\n",
    "\n",
    "# Train AUC\n",
    "print('Train AUC: {}'.format( None ))\n",
    "print('AUC: {}'.format(auc(test_fpr, test_tpr)))\n",
    "\n",
    "# Seaborn's beautiful styling\n",
    "sns.set_style('darkgrid', {'axes.facecolor': '0.9'})\n",
    "\n",
    "plt.figure(figsize=(10, 8))\n",
    "lw = 2\n",
    "\n",
    "plt.plot(train_fpr, train_tpr, color='blue',\n",
    "         lw=lw, label='Train ROC curve')\n",
    "plt.plot(test_fpr, test_tpr, color='darkorange',\n",
    "         lw=lw, label='Test ROC curve')\n",
    "\n",
    "plt.plot([0, 1], [0, 1], color='navy', lw=lw, linestyle='--')\n",
    "plt.xlim([0.0, 1.0])\n",
    "plt.ylim([0.0, 1.05])\n",
    "plt.yticks([i/20.0 for i in range(21)])\n",
    "plt.xticks([i/20.0 for i in range(21)])\n",
    "plt.xlabel('False Positive Rate')\n",
    "plt.ylabel('True Positive Rate')\n",
    "plt.title('Receiver operating characteristic (ROC) Curve')\n",
    "plt.legend(loc='lower right')\n",
    "plt.show()"
   ]
  },
  {
   "cell_type": "markdown",
   "metadata": {},
   "source": [
    "## Create a confusion matrix for your predictions\n",
    "\n",
    "Use a standard decision boundary of 0.5 to convert your probabilities output by logistic regression into binary classifications. (Again this should be for the test set.) Afterward, feel free to use the built-in scikit-learn function to compute the confusion matrix as we discussed in previous sections."
   ]
  },
  {
   "cell_type": "code",
   "execution_count": null,
   "metadata": {},
   "outputs": [],
   "source": [
    "# Your code here"
   ]
  },
  {
   "cell_type": "markdown",
   "metadata": {},
   "source": [
    "## Initial Model - scikit-learn\n",
    "\n",
    "Use scikit-learn to build a similar model. To start, create an identical model as you did in the last section; turn off the intercept and set the regularization parameter, `C`, to a ridiculously large number such as 1e16. "
   ]
  },
  {
   "cell_type": "code",
   "execution_count": null,
   "metadata": {},
   "outputs": [],
   "source": [
    "# Your code here"
   ]
  },
  {
   "cell_type": "markdown",
   "metadata": {},
   "source": [
    "## Create an ROC Curve for the scikit-learn model\n",
    "\n",
    "Use both the training and test sets"
   ]
  },
  {
   "cell_type": "code",
   "execution_count": null,
   "metadata": {},
   "outputs": [],
   "source": [
    "# Your code here\n",
    "\n",
    "y_train_score = None\n",
    "y_test_score = None\n",
    "\n",
    "train_fpr, train_tpr, train_thresholds = None\n",
    "test_fpr, test_tpr, test_thresholds = None\n",
    "\n",
    "\n",
    "print('Train AUC: {}'.format(auc(train_fpr, train_tpr)))\n",
    "print('Test AUC: {}'.format(auc(test_fpr, test_tpr)))\n",
    "\n",
    "plt.figure(figsize=(10, 8))\n",
    "lw = 2\n",
    "\n",
    "plt.plot(train_fpr, train_tpr, color='blue',\n",
    "         lw=lw, label='Train ROC curve')\n",
    "plt.plot(test_fpr, test_tpr, color='darkorange',\n",
    "         lw=lw, label='Test ROC curve')\n",
    "\n",
    "plt.plot([0, 1], [0, 1], color='navy', lw=lw, linestyle='--')\n",
    "plt.xlim([0.0, 1.0])\n",
    "plt.ylim([0.0, 1.05])\n",
    "plt.yticks([i/20.0 for i in range(21)])\n",
    "plt.xticks([i/20.0 for i in range(21)])\n",
    "plt.xlabel('False Positive Rate')\n",
    "plt.ylabel('True Positive Rate')\n",
    "plt.title('Receiver operating characteristic (ROC) Curve')\n",
    "plt.legend(loc='lower right')\n",
    "plt.show()"
   ]
  },
  {
   "cell_type": "markdown",
   "metadata": {},
   "source": [
    "## Add an Intercept\n",
    "\n",
    "Now add an intercept to the scikit-learn model. Keep the regularization parameter `C` set to a very large number such as 1e16. "
   ]
  },
  {
   "cell_type": "code",
   "execution_count": null,
   "metadata": {},
   "outputs": [],
   "source": [
    "# Create new model\n",
    "logregi = None\n"
   ]
  },
  {
   "cell_type": "markdown",
   "metadata": {},
   "source": [
    "Plot all three models ROC curves on the same graph."
   ]
  },
  {
   "cell_type": "code",
   "execution_count": null,
   "metadata": {},
   "outputs": [],
   "source": [
    "# Initial model plots\n",
    "test_fpr, test_tpr, test_thresholds = roc_curve(y_test, y_hat_test)\n",
    "train_fpr, train_tpr, train_thresholds = roc_curve(y_train, y_hat_train)\n",
    "\n",
    "\n",
    "print('Custom Model Test AUC: {}'.format(auc(test_fpr, test_tpr)))\n",
    "print('Custome Model Train AUC: {}'.format(auc(train_fpr, train_tpr)))\n",
    "\n",
    "plt.figure(figsize=(10,8))\n",
    "lw = 2\n",
    "\n",
    "plt.plot(test_fpr, test_tpr, color='darkorange',\n",
    "         lw=lw, label='Custom Model Test ROC curve')\n",
    "plt.plot(train_fpr, train_tpr, color='blue',\n",
    "         lw=lw, label='Custom Model Train ROC curve')\n",
    "\n",
    "\n",
    "# Second model plots\n",
    "y_test_score = logreg.decision_function(X_test)\n",
    "y_train_score = logreg.decision_function(X_train)\n",
    "\n",
    "test_fpr, test_tpr, test_thresholds = roc_curve(y_test, y_test_score)\n",
    "train_fpr, train_tpr, train_thresholds = roc_curve(y_train, y_train_score)\n",
    "\n",
    "print('Scikit-learn Model 1 Test AUC: {}'.format(auc(test_fpr, test_tpr)))\n",
    "print('Scikit-learn Model 1 Train AUC: {}'.format(auc(train_fpr, train_tpr)))\n",
    "\n",
    "\n",
    "plt.plot(test_fpr, test_tpr, color='yellow',\n",
    "         lw=lw, label='Scikit learn Model 1 Test ROC curve')\n",
    "plt.plot(train_fpr, train_tpr, color='gold',\n",
    "         lw=lw, label='Scikit learn Model 1 Train ROC curve')\n",
    "\n",
    "\n",
    "# Third model plots\n",
    "y_test_score = None\n",
    "y_train_score = None\n",
    "\n",
    "test_fpr, test_tpr, test_thresholds = roc_curve(y_test, y_test_score)\n",
    "train_fpr, train_tpr, train_thresholds = roc_curve(y_train, y_train_score)\n",
    "\n",
    "print('Scikit-learn Model 2 with intercept Test AUC: {}'.format(auc(test_fpr, test_tpr)))\n",
    "print('Scikit-learn Model 2 with intercept Train AUC: {}'.format(auc(train_fpr, train_tpr)))\n",
    "\n",
    "\n",
    "plt.plot(test_fpr, test_tpr, color='purple',\n",
    "         lw=lw, label='Scikit learn Model 2 with intercept Test ROC curve')\n",
    "plt.plot(train_fpr, train_tpr, color='red',\n",
    "         lw=lw, label='Scikit learn Model 2 with intercept Train ROC curve')\n",
    "\n",
    "# Formatting\n",
    "plt.plot([0, 1], [0, 1], color='navy', lw=lw, linestyle='--')\n",
    "plt.xlim([0.0, 1.0])\n",
    "plt.ylim([0.0, 1.05])\n",
    "plt.yticks([i/20.0 for i in range(21)])\n",
    "plt.xticks([i/20.0 for i in range(21)])\n",
    "plt.xlabel('False Positive Rate')\n",
    "plt.ylabel('True Positive Rate')\n",
    "plt.title('Receiver operating characteristic (ROC) Curve')\n",
    "plt.legend(loc=\"lower right\")\n",
    "plt.show()"
   ]
  },
  {
   "cell_type": "markdown",
   "metadata": {},
   "source": [
    "## Altering the Regularization Parameter\n",
    "\n",
    "Now, experiment with altering the regularization parameter. At a minimum, create 5 different subplots with varying regularization (`C`) parameters. For each, plot the ROC curve of the training and test set for that specific model.  \n",
    "\n",
    "Regularization parameters between 1 and 20 are recommended. Observe the difference in test and training AUC as you go along."
   ]
  },
  {
   "cell_type": "code",
   "execution_count": null,
   "metadata": {},
   "outputs": [],
   "source": [
    "# Your code here"
   ]
  },
  {
   "cell_type": "markdown",
   "metadata": {},
   "source": [
    "How did the regularization parameter impact the ROC curves plotted above? "
   ]
  },
  {
   "cell_type": "markdown",
   "metadata": {},
   "source": [
    "## Summary\n",
    "\n",
    "In this lab, you reviewed many of the accuracy measures for classification algorithms and observed the impact of additional tuning models using intercepts and regularization."
   ]
  }
 ],
 "metadata": {
  "kernelspec": {
   "display_name": "Python 3",
   "language": "python",
   "name": "python3"
  },
  "language_info": {
   "codemirror_mode": {
    "name": "ipython",
    "version": 3
   },
   "file_extension": ".py",
   "mimetype": "text/x-python",
   "name": "python",
   "nbconvert_exporter": "python",
   "pygments_lexer": "ipython3",
   "version": "3.6.9"
  }
 },
 "nbformat": 4,
 "nbformat_minor": 2
}
